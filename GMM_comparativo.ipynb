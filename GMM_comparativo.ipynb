{
 "cells": [
  {
   "cell_type": "markdown",
   "id": "8538add1",
   "metadata": {},
   "source": [
    "\n",
    "# Comparação entre K-Means e Gaussian Mixture Model (GMM)\n",
    "\n",
    "Neste notebook, aplicamos o modelo **Gaussian Mixture Model (GMM)** como alternativa ao K-Means, buscando compreender os agrupamentos latentes nos dados de saúde e trabalho remoto. A análise considera:\n",
    "\n",
    "- Redução de dimensionalidade com PCA para visualização;\n",
    "- Escolha do número ideal de clusters (mesmo `k` usado no K-Means);\n",
    "- Visualização e interpretação dos clusters GMM;\n",
    "- Comparação qualitativa e quantitativa com os resultados do K-Means.\n"
   ]
  },
  {
   "cell_type": "code",
   "execution_count": null,
   "id": "1c96a272",
   "metadata": {},
   "outputs": [],
   "source": [
    "\n",
    "import pandas as pd\n",
    "import numpy as np\n",
    "from sklearn.mixture import GaussianMixture\n",
    "from sklearn.decomposition import PCA\n",
    "from sklearn.preprocessing import StandardScaler\n",
    "import matplotlib.pyplot as plt\n",
    "import seaborn as sns\n",
    "import os\n",
    "\n",
    "sns.set(style=\"whitegrid\")\n"
   ]
  },
  {
   "cell_type": "code",
   "execution_count": 3,
   "id": "1ebc3e6f",
   "metadata": {},
   "outputs": [
    {
     "data": {
      "text/html": [
       "<div>\n",
       "<style scoped>\n",
       "    .dataframe tbody tr th:only-of-type {\n",
       "        vertical-align: middle;\n",
       "    }\n",
       "\n",
       "    .dataframe tbody tr th {\n",
       "        vertical-align: top;\n",
       "    }\n",
       "\n",
       "    .dataframe thead th {\n",
       "        text-align: right;\n",
       "    }\n",
       "</style>\n",
       "<table border=\"1\" class=\"dataframe\">\n",
       "  <thead>\n",
       "    <tr style=\"text-align: right;\">\n",
       "      <th></th>\n",
       "      <th>Survey_Date</th>\n",
       "      <th>Age</th>\n",
       "      <th>Gender</th>\n",
       "      <th>Region</th>\n",
       "      <th>Industry</th>\n",
       "      <th>Job_Role</th>\n",
       "      <th>Work_Arrangement</th>\n",
       "      <th>Hours_Per_Week</th>\n",
       "      <th>Mental_Health_Status</th>\n",
       "      <th>Burnout_Level</th>\n",
       "      <th>Work_Life_Balance_Score</th>\n",
       "      <th>Social_Isolation_Score</th>\n",
       "      <th>Salary_Range</th>\n",
       "      <th>Physical_Health_Shoulder_Pain</th>\n",
       "      <th>Physical_Health_Neck_Pain</th>\n",
       "      <th>Physical_Health_Back_Pain</th>\n",
       "      <th>Physical_Health_Eye_Strain</th>\n",
       "      <th>Physical_Health_Wrist_Pain</th>\n",
       "    </tr>\n",
       "  </thead>\n",
       "  <tbody>\n",
       "    <tr>\n",
       "      <th>0</th>\n",
       "      <td>2025-06-01</td>\n",
       "      <td>27</td>\n",
       "      <td>Female</td>\n",
       "      <td>Asia</td>\n",
       "      <td>Professional Services</td>\n",
       "      <td>Data Analyst</td>\n",
       "      <td>Onsite</td>\n",
       "      <td>64</td>\n",
       "      <td>Stress Disorder</td>\n",
       "      <td>High</td>\n",
       "      <td>3</td>\n",
       "      <td>2</td>\n",
       "      <td>$40K-60K</td>\n",
       "      <td>1</td>\n",
       "      <td>0</td>\n",
       "      <td>0</td>\n",
       "      <td>0</td>\n",
       "      <td>0</td>\n",
       "    </tr>\n",
       "    <tr>\n",
       "      <th>1</th>\n",
       "      <td>2025-06-01</td>\n",
       "      <td>37</td>\n",
       "      <td>Female</td>\n",
       "      <td>Asia</td>\n",
       "      <td>Professional Services</td>\n",
       "      <td>Data Analyst</td>\n",
       "      <td>Onsite</td>\n",
       "      <td>37</td>\n",
       "      <td>Stress Disorder</td>\n",
       "      <td>High</td>\n",
       "      <td>4</td>\n",
       "      <td>2</td>\n",
       "      <td>$80K-100K</td>\n",
       "      <td>0</td>\n",
       "      <td>0</td>\n",
       "      <td>1</td>\n",
       "      <td>0</td>\n",
       "      <td>0</td>\n",
       "    </tr>\n",
       "    <tr>\n",
       "      <th>2</th>\n",
       "      <td>2025-06-01</td>\n",
       "      <td>32</td>\n",
       "      <td>Female</td>\n",
       "      <td>Africa</td>\n",
       "      <td>Education</td>\n",
       "      <td>Business Analyst</td>\n",
       "      <td>Onsite</td>\n",
       "      <td>36</td>\n",
       "      <td>ADHD</td>\n",
       "      <td>High</td>\n",
       "      <td>3</td>\n",
       "      <td>2</td>\n",
       "      <td>$80K-100K</td>\n",
       "      <td>1</td>\n",
       "      <td>0</td>\n",
       "      <td>0</td>\n",
       "      <td>0</td>\n",
       "      <td>0</td>\n",
       "    </tr>\n",
       "    <tr>\n",
       "      <th>3</th>\n",
       "      <td>2025-06-01</td>\n",
       "      <td>40</td>\n",
       "      <td>Female</td>\n",
       "      <td>Europe</td>\n",
       "      <td>Education</td>\n",
       "      <td>Data Analyst</td>\n",
       "      <td>Onsite</td>\n",
       "      <td>63</td>\n",
       "      <td>ADHD</td>\n",
       "      <td>Medium</td>\n",
       "      <td>1</td>\n",
       "      <td>2</td>\n",
       "      <td>$60K-80K</td>\n",
       "      <td>1</td>\n",
       "      <td>0</td>\n",
       "      <td>0</td>\n",
       "      <td>0</td>\n",
       "      <td>0</td>\n",
       "    </tr>\n",
       "    <tr>\n",
       "      <th>4</th>\n",
       "      <td>2025-06-01</td>\n",
       "      <td>52</td>\n",
       "      <td>Male</td>\n",
       "      <td>Oceania</td>\n",
       "      <td>Customer Service</td>\n",
       "      <td>Business Analyst</td>\n",
       "      <td>Onsite</td>\n",
       "      <td>61</td>\n",
       "      <td>Burnout</td>\n",
       "      <td>Medium</td>\n",
       "      <td>4</td>\n",
       "      <td>3</td>\n",
       "      <td>$60K-80K</td>\n",
       "      <td>0</td>\n",
       "      <td>0</td>\n",
       "      <td>1</td>\n",
       "      <td>0</td>\n",
       "      <td>0</td>\n",
       "    </tr>\n",
       "  </tbody>\n",
       "</table>\n",
       "</div>"
      ],
      "text/plain": [
       "  Survey_Date  Age  Gender   Region               Industry          Job_Role  \\\n",
       "0  2025-06-01   27  Female     Asia  Professional Services      Data Analyst   \n",
       "1  2025-06-01   37  Female     Asia  Professional Services      Data Analyst   \n",
       "2  2025-06-01   32  Female   Africa              Education  Business Analyst   \n",
       "3  2025-06-01   40  Female   Europe              Education      Data Analyst   \n",
       "4  2025-06-01   52    Male  Oceania       Customer Service  Business Analyst   \n",
       "\n",
       "  Work_Arrangement  Hours_Per_Week Mental_Health_Status Burnout_Level  \\\n",
       "0           Onsite              64      Stress Disorder          High   \n",
       "1           Onsite              37      Stress Disorder          High   \n",
       "2           Onsite              36                 ADHD          High   \n",
       "3           Onsite              63                 ADHD        Medium   \n",
       "4           Onsite              61              Burnout        Medium   \n",
       "\n",
       "   Work_Life_Balance_Score  Social_Isolation_Score Salary_Range  \\\n",
       "0                        3                       2     $40K-60K   \n",
       "1                        4                       2    $80K-100K   \n",
       "2                        3                       2    $80K-100K   \n",
       "3                        1                       2     $60K-80K   \n",
       "4                        4                       3     $60K-80K   \n",
       "\n",
       "   Physical_Health_Shoulder_Pain  Physical_Health_Neck_Pain  \\\n",
       "0                              1                          0   \n",
       "1                              0                          0   \n",
       "2                              1                          0   \n",
       "3                              1                          0   \n",
       "4                              0                          0   \n",
       "\n",
       "   Physical_Health_Back_Pain  Physical_Health_Eye_Strain  \\\n",
       "0                          0                           0   \n",
       "1                          1                           0   \n",
       "2                          0                           0   \n",
       "3                          0                           0   \n",
       "4                          1                           0   \n",
       "\n",
       "   Physical_Health_Wrist_Pain  \n",
       "0                           0  \n",
       "1                           0  \n",
       "2                           0  \n",
       "3                           0  \n",
       "4                           0  "
      ]
     },
     "execution_count": 3,
     "metadata": {},
     "output_type": "execute_result"
    }
   ],
   "source": [
    "\n",
    "# Substitua pelo caminho correto se necessário\n",
    "df = pd.read_csv(\"./data/prepared_data.csv\")  # você deve adaptar este caminho\n",
    "df.head()\n"
   ]
  },
  {
   "cell_type": "code",
   "execution_count": 4,
   "id": "13d713d2",
   "metadata": {},
   "outputs": [],
   "source": [
    "\n",
    "# Selecionar colunas numéricas para clustering\n",
    "features = df.select_dtypes(include=[np.number]).columns.tolist()\n",
    "X = df[features].copy()\n",
    "\n",
    "# Padronização\n",
    "scaler = StandardScaler()\n",
    "X_scaled = scaler.fit_transform(X)\n"
   ]
  },
  {
   "cell_type": "code",
   "execution_count": 5,
   "id": "3673d938",
   "metadata": {},
   "outputs": [
    {
     "name": "stderr",
     "output_type": "stream",
     "text": [
      "/Users/75467/Desktop/Doutorado/AAED/Trabalho_Final/MentalHealthAnalysis/.venv/lib/python3.12/site-packages/sklearn/decomposition/_base.py:148: RuntimeWarning: divide by zero encountered in matmul\n",
      "  X_transformed = X @ self.components_.T\n",
      "/Users/75467/Desktop/Doutorado/AAED/Trabalho_Final/MentalHealthAnalysis/.venv/lib/python3.12/site-packages/sklearn/decomposition/_base.py:148: RuntimeWarning: overflow encountered in matmul\n",
      "  X_transformed = X @ self.components_.T\n",
      "/Users/75467/Desktop/Doutorado/AAED/Trabalho_Final/MentalHealthAnalysis/.venv/lib/python3.12/site-packages/sklearn/decomposition/_base.py:148: RuntimeWarning: invalid value encountered in matmul\n",
      "  X_transformed = X @ self.components_.T\n"
     ]
    }
   ],
   "source": [
    "\n",
    "# Redução de dimensionalidade para visualização\n",
    "pca = PCA(n_components=2)\n",
    "X_pca = pca.fit_transform(X_scaled)\n",
    "\n",
    "# DataFrame para plotagem\n",
    "df_pca = pd.DataFrame(X_pca, columns=['PC1', 'PC2'])\n"
   ]
  },
  {
   "cell_type": "code",
   "execution_count": 6,
   "id": "2604ca41",
   "metadata": {},
   "outputs": [
    {
     "name": "stderr",
     "output_type": "stream",
     "text": [
      "/Users/75467/Desktop/Doutorado/AAED/Trabalho_Final/MentalHealthAnalysis/.venv/lib/python3.12/site-packages/sklearn/utils/extmath.py:203: RuntimeWarning: divide by zero encountered in matmul\n",
      "  ret = a @ b\n",
      "/Users/75467/Desktop/Doutorado/AAED/Trabalho_Final/MentalHealthAnalysis/.venv/lib/python3.12/site-packages/sklearn/utils/extmath.py:203: RuntimeWarning: overflow encountered in matmul\n",
      "  ret = a @ b\n",
      "/Users/75467/Desktop/Doutorado/AAED/Trabalho_Final/MentalHealthAnalysis/.venv/lib/python3.12/site-packages/sklearn/utils/extmath.py:203: RuntimeWarning: invalid value encountered in matmul\n",
      "  ret = a @ b\n",
      "/Users/75467/Desktop/Doutorado/AAED/Trabalho_Final/MentalHealthAnalysis/.venv/lib/python3.12/site-packages/sklearn/cluster/_kmeans.py:237: RuntimeWarning: divide by zero encountered in matmul\n",
      "  current_pot = closest_dist_sq @ sample_weight\n",
      "/Users/75467/Desktop/Doutorado/AAED/Trabalho_Final/MentalHealthAnalysis/.venv/lib/python3.12/site-packages/sklearn/cluster/_kmeans.py:237: RuntimeWarning: overflow encountered in matmul\n",
      "  current_pot = closest_dist_sq @ sample_weight\n",
      "/Users/75467/Desktop/Doutorado/AAED/Trabalho_Final/MentalHealthAnalysis/.venv/lib/python3.12/site-packages/sklearn/cluster/_kmeans.py:237: RuntimeWarning: invalid value encountered in matmul\n",
      "  current_pot = closest_dist_sq @ sample_weight\n"
     ]
    }
   ],
   "source": [
    "\n",
    "# Número de clusters (ajustar para o mesmo do KMeans)\n",
    "n_clusters = 4\n",
    "\n",
    "gmm = GaussianMixture(n_components=n_clusters, random_state=42)\n",
    "gmm_labels = gmm.fit_predict(X_scaled)\n",
    "\n",
    "df_pca['GMM_Cluster'] = gmm_labels\n"
   ]
  },
  {
   "cell_type": "code",
   "execution_count": 7,
   "id": "698d4c40",
   "metadata": {},
   "outputs": [
    {
     "data": {
      "image/png": "[encoded data removed]",
      "text/plain": [
       "<Figure size 800x600 with 1 Axes>"
      ]
     },
     "metadata": {},
     "output_type": "display_data"
    }
   ],
   "source": [
    "\n",
    "plt.figure(figsize=(8, 6))\n",
    "sns.scatterplot(data=df_pca, x='PC1', y='PC2', hue='GMM_Cluster', palette='tab10', s=50)\n",
    "plt.title(\"Clusters gerados pelo GMM visualizados com PCA\")\n",
    "plt.xlabel(\"Componente Principal 1\")\n",
    "plt.ylabel(\"Componente Principal 2\")\n",
    "plt.legend(title=\"Cluster\")\n",
    "plt.tight_layout()\n",
    "plt.show()\n"
   ]
  },
  {
   "cell_type": "code",
   "execution_count": 8,
   "id": "d4334e28",
   "metadata": {},
   "outputs": [
    {
     "data": {
      "text/plain": [
       "0    1612\n",
       "1     401\n",
       "2     749\n",
       "3     115\n",
       "Name: count, dtype: int64"
      ]
     },
     "execution_count": 8,
     "metadata": {},
     "output_type": "execute_result"
    }
   ],
   "source": [
    "\n",
    "# Comparar número de pontos por cluster\n",
    "pd.Series(gmm_labels).value_counts().sort_index()\n"
   ]
  },
  {
   "cell_type": "markdown",
   "id": "f734a28e",
   "metadata": {},
   "source": [
    "\n",
    "## Conclusão\n",
    "\n",
    "O GMM conseguiu identificar agrupamentos probabilísticos com base em distribuições gaussianas. A visualização mostra a separação dos clusters no espaço PCA, permitindo comparação direta com os grupos definidos pelo K-Means.\n",
    "\n",
    "Você pode agora comparar os perfis médios de cada grupo com base nos rótulos `GMM_Cluster`, como foi feito com `kmeans_cluster` no notebook original.\n"
   ]
  },
  {
   "cell_type": "code",
   "execution_count": 9,
   "id": "164e8323",
   "metadata": {},
   "outputs": [],
   "source": [
    "grupo_bem_estar = [\n",
    "    'Age', 'Hours_Per_Week', 'Work_Life_Balance_Score', 'Social_Isolation_Score',\n",
    "    'Physical_Health_Shoulder_Pain', 'Physical_Health_Neck_Pain',\n",
    "    'Physical_Health_Back_Pain', 'Physical_Health_Eye_Strain', 'Physical_Health_Wrist_Pain'\n",
    "]\n",
    "\n",
    "grupo_demografia = [\n",
    "    'Gender_Female', 'Gender_Male', 'Gender_Non-binary', 'Gender_Prefer not to say',\n",
    "    'Region_Africa', 'Region_Asia', 'Region_Europe', 'Region_North America',\n",
    "    'Region_Oceania', 'Region_South America'\n",
    "]\n",
    "\n",
    "grupo_industria = [\n",
    "    'Industry_Customer Service', 'Industry_Education', 'Industry_Finance',\n",
    "    'Industry_Healthcare', 'Industry_Manufacturing', 'Industry_Marketing',\n",
    "    'Industry_Professional Services', 'Industry_Retail', 'Industry_Technology'\n",
    "]\n",
    "\n",
    "grupo_funcoes = [\n",
    "    'Job_Role_Account Manager', 'Job_Role_Business Analyst', 'Job_Role_Consultant',\n",
    "    'Job_Role_Content Writer', 'Job_Role_Customer Service Manager',\n",
    "    'Job_Role_Data Analyst', 'Job_Role_Data Scientist', 'Job_Role_DevOps Engineer',\n",
    "    'Job_Role_Digital Marketing Specialist', 'Job_Role_Executive Assistant',\n",
    "    'Job_Role_Financial Analyst', 'Job_Role_HR Manager', 'Job_Role_IT Support',\n",
    "    'Job_Role_Marketing Specialist', 'Job_Role_Operations Manager',\n",
    "    'Job_Role_Product Manager', 'Job_Role_Project Manager', 'Job_Role_Quality Assurance',\n",
    "    'Job_Role_Research Scientist', 'Job_Role_Sales Representative',\n",
    "    'Job_Role_Social Media Manager', 'Job_Role_Software Engineer',\n",
    "    'Job_Role_Technical Writer', 'Job_Role_UX Designer'\n",
    "]\n",
    "\n",
    "grupo_arranjo = [\n",
    "    'Work_Arrangement_Hybrid', 'Work_Arrangement_Onsite', 'Work_Arrangement_Remote'\n",
    "]\n",
    "\n",
    "grupo_saude_mental = [\n",
    "    'Mental_Health_Status_ADHD', 'Mental_Health_Status_Anxiety',\n",
    "    'Mental_Health_Status_Burnout', 'Mental_Health_Status_Depression',\n",
    "    'Mental_Health_Status_PTSD', 'Mental_Health_Status_Stress Disorder',\n",
    "    'Mental_Health_Status_unknown', 'Burnout_Level_High',\n",
    "    'Burnout_Level_Low', 'Burnout_Level_Medium'\n",
    "]\n",
    "\n",
    "grupo_salario = [\n",
    "    'Salary_Range_$40K-60K', 'Salary_Range_$60K-80K',\n",
    "    'Salary_Range_$80K-100K', 'Salary_Range_$100K-120K', 'Salary_Range_$120K+'\n",
    "]\n",
    "\n"
   ]
  },
  {
   "cell_type": "code",
   "execution_count": 11,
   "id": "41412a00",
   "metadata": {},
   "outputs": [],
   "source": [
    "import os"
   ]
  },
  {
   "cell_type": "code",
   "execution_count": 13,
   "id": "8b59d460",
   "metadata": {},
   "outputs": [
    {
     "ename": "IndexError",
     "evalue": "only integers, slices (`:`), ellipsis (`...`), numpy.newaxis (`None`) and integer or boolean arrays are valid indices",
     "output_type": "error",
     "traceback": [
      "\u001b[31m---------------------------------------------------------------------------\u001b[39m",
      "\u001b[31mIndexError\u001b[39m                                Traceback (most recent call last)",
      "\u001b[36mCell\u001b[39m\u001b[36m \u001b[39m\u001b[32mIn[13]\u001b[39m\u001b[32m, line 11\u001b[39m\n\u001b[32m      6\u001b[39m \u001b[38;5;28;01mfor\u001b[39;00m grupo, nome \u001b[38;5;129;01min\u001b[39;00m \u001b[38;5;28mzip\u001b[39m([grupo_bem_estar, grupo_demografia, grupo_industria, grupo_funcoes,\n\u001b[32m      7\u001b[39m                        grupo_arranjo, grupo_saude_mental, grupo_salario],\n\u001b[32m      8\u001b[39m                        [\u001b[33m'\u001b[39m\u001b[33mBem Estar\u001b[39m\u001b[33m'\u001b[39m, \u001b[33m'\u001b[39m\u001b[33mDemografia\u001b[39m\u001b[33m'\u001b[39m, \u001b[33m'\u001b[39m\u001b[33mIndustria\u001b[39m\u001b[33m'\u001b[39m, \u001b[33m'\u001b[39m\u001b[33mFuncoes\u001b[39m\u001b[33m'\u001b[39m, \u001b[33m'\u001b[39m\u001b[33mArranjo\u001b[39m\u001b[33m'\u001b[39m,\n\u001b[32m      9\u001b[39m                         \u001b[33m'\u001b[39m\u001b[33mSaude Mental\u001b[39m\u001b[33m'\u001b[39m, \u001b[33m'\u001b[39m\u001b[33mSalario\u001b[39m\u001b[33m'\u001b[39m]):\n\u001b[32m     10\u001b[39m     plt.figure(figsize=(\u001b[32m10\u001b[39m, \u001b[32m4\u001b[39m))\n\u001b[32m---> \u001b[39m\u001b[32m11\u001b[39m     \u001b[43mgmm_labels\u001b[49m\u001b[43m[\u001b[49m\u001b[43mgrupo\u001b[49m\u001b[43m]\u001b[49m.T.plot.bar(ax=plt.gca())\n\u001b[32m     12\u001b[39m     plt.title(\u001b[33mf\u001b[39m\u001b[33m'\u001b[39m\u001b[33mPerfil dos Clusters (GMM) – \u001b[39m\u001b[38;5;132;01m{\u001b[39;00mnome\u001b[38;5;132;01m}\u001b[39;00m\u001b[33m'\u001b[39m)\n\u001b[32m     13\u001b[39m     plt.xticks(rotation=\u001b[32m45\u001b[39m, ha=\u001b[33m'\u001b[39m\u001b[33mright\u001b[39m\u001b[33m'\u001b[39m, fontsize=\u001b[32m8\u001b[39m)\n",
      "\u001b[31mIndexError\u001b[39m: only integers, slices (`:`), ellipsis (`...`), numpy.newaxis (`None`) and integer or boolean arrays are valid indices"
     ]
    },
    {
     "data": {
      "text/plain": [
       "<Figure size 1000x400 with 0 Axes>"
      ]
     },
     "metadata": {},
     "output_type": "display_data"
    }
   ],
   "source": [
    "\n",
    "# Comparação de perfis de clusters do GMM\n",
    "output_dir = './reports/GMM'\n",
    "os.makedirs(output_dir, exist_ok=True)\n",
    "\n",
    "# Supondo que os grupos para comparação de perfil estejam definidos como no exemplo do KMeans\n",
    "for grupo, nome in zip([grupo_bem_estar, grupo_demografia, grupo_industria, grupo_funcoes,\n",
    "                       grupo_arranjo, grupo_saude_mental, grupo_salario],\n",
    "                       ['Bem Estar', 'Demografia', 'Industria', 'Funcoes', 'Arranjo',\n",
    "                        'Saude Mental', 'Salario']):\n",
    "    plt.figure(figsize=(10, 4))\n",
    "    gmm_labels[grupo].T.plot.bar(ax=plt.gca())\n",
    "    plt.title(f'Perfil dos Clusters (GMM) – {nome}')\n",
    "    plt.xticks(rotation=45, ha='right', fontsize=8)\n",
    "    plt.tight_layout()\n",
    "    plt.savefig(f'{output_dir}/perfil_clusters_{nome.replace(\" \", \"_\")}.png')\n",
    "    plt.close()\n",
    "print(f'Figuras salvas em {output_dir}/')"
   ]
  },
  {
   "cell_type": "code",
   "execution_count": null,
   "id": "fa344d3e",
   "metadata": {},
   "outputs": [],
   "source": []
  }
 ],
 "metadata": {
  "kernelspec": {
   "display_name": ".venv",
   "language": "python",
   "name": "python3"
  },
  "language_info": {
   "codemirror_mode": {
    "name": "ipython",
    "version": 3
   },
   "file_extension": ".py",
   "mimetype": "text/x-python",
   "name": "python",
   "nbconvert_exporter": "python",
   "pygments_lexer": "ipython3",
   "version": "3.12.10"
  }
 },
 "nbformat": 4,
 "nbformat_minor": 5
}
